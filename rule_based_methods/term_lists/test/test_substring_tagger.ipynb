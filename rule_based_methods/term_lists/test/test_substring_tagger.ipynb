{
 "cells": [
  {
   "cell_type": "code",
   "execution_count": 1,
   "id": "cb9f3f2d",
   "metadata": {},
   "outputs": [],
   "source": [
    "import sys\n",
    "sys.path.append(\"..\")\n",
    "\n",
    "from substring_tagger import SubstringTagger"
   ]
  },
  {
   "cell_type": "markdown",
   "id": "ed0a1a9a",
   "metadata": {},
   "source": [
    "### I. Test matching without separators "
   ]
  },
  {
   "cell_type": "code",
   "execution_count": 2,
   "id": "5d280b93",
   "metadata": {},
   "outputs": [],
   "source": [
    "rules = {'first', 'firs', 'irst', 'last'}\n",
    "text = 'first second last'\n",
    "tagger = SubstringTagger(rules)\n",
    "\n",
    "expected_output = [\n",
    "    {'start': 0, 'end': 5, 'text': 'first'},\n",
    "    {'start': 13, 'end': 17, 'text': 'last'}]\n",
    "assert tagger(text) == expected_output, \"Maximal matches must be returned\""
   ]
  },
  {
   "cell_type": "markdown",
   "id": "24571edb",
   "metadata": {},
   "source": [
    "### II. Test the effect of separators"
   ]
  },
  {
   "cell_type": "code",
   "execution_count": 3,
   "id": "96135595",
   "metadata": {},
   "outputs": [],
   "source": [
    "rules = {'match'}\n",
    "text = 'match|match| match| match| match |match'\n",
    "separators = '|'\n",
    "tagger = SubstringTagger(rules, separators=separators)\n",
    "\n",
    "expected_output = [\n",
    "    {'start': 0, 'end': 5, 'text': 'match'},\n",
    "    {'start': 6, 'end': 11, 'text': 'match'},\n",
    "    {'start': 34, 'end': 39, 'text': 'match'}]\n",
    "assert tagger(text) == expected_output, \"Separators are not correctly handled\""
   ]
  },
  {
   "cell_type": "code",
   "execution_count": 4,
   "id": "9c017180",
   "metadata": {},
   "outputs": [],
   "source": [
    "rules = {'match'}\n",
    "text = 'match match, :match, match'\n",
    "separators = ' , :'\n",
    "tagger = SubstringTagger(rules, separators=separators)\n",
    "\n",
    "expected_output = [\n",
    "    {'start': 0, 'end': 5, 'text': 'match'},\n",
    "    {'start': 6, 'end': 11, 'text': 'match'},\n",
    "    {'start': 14, 'end': 19, 'text': 'match'},\n",
    "    {'start': 21, 'end': 26, 'text': 'match'}]\n",
    "assert tagger(text) == expected_output, \"Multiple separators do not work\""
   ]
  },
  {
   "cell_type": "markdown",
   "id": "e57eb31a",
   "metadata": {},
   "source": [
    "### III. Test annotations"
   ]
  },
  {
   "cell_type": "code",
   "execution_count": 5,
   "id": "bee236bf",
   "metadata": {},
   "outputs": [],
   "source": [
    "rules = {'first': {'a': 1}, 'second': {'b': 2}, 'last': {}}\n",
    "text = 'first second last'\n",
    "tagger = SubstringTagger(rules)\n",
    "\n",
    "expected_outcome = [\n",
    "    {'start': 0, 'end': 5, 'text': 'first', 'a': 1},\n",
    "    {'start': 6, 'end': 12, 'text': 'second', 'b': 2},\n",
    "    {'start': 13, 'end': 17, 'text': 'last'}]\n",
    "assert tagger(text) == expected_outcome, \"Annotations do not work\""
   ]
  }
 ],
 "metadata": {
  "kernelspec": {
   "display_name": "Python 3",
   "language": "python",
   "name": "python3"
  },
  "language_info": {
   "codemirror_mode": {
    "name": "ipython",
    "version": 3
   },
   "file_extension": ".py",
   "mimetype": "text/x-python",
   "name": "python",
   "nbconvert_exporter": "python",
   "pygments_lexer": "ipython3",
   "version": "3.8.10"
  }
 },
 "nbformat": 4,
 "nbformat_minor": 5
}

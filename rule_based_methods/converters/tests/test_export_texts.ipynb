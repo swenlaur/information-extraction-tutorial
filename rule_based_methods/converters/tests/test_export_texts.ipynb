{
 "cells": [
  {
   "cell_type": "code",
   "execution_count": 1,
   "id": "f468a8dc",
   "metadata": {},
   "outputs": [],
   "source": [
    "import sys\n",
    "sys.path.append('../..')\n",
    "\n",
    "import os\n",
    "import filecmp\n",
    "from term_lists import SubstringTagger\n",
    "from converters.label_studio import export_texts"
   ]
  },
  {
   "cell_type": "markdown",
   "id": "44db4cb1",
   "metadata": {},
   "source": [
    "### I. Test basic functionality"
   ]
  },
  {
   "cell_type": "code",
   "execution_count": 2,
   "id": "60a3cb7c",
   "metadata": {},
   "outputs": [],
   "source": [
    "rules = {'WHO': {'label': 'ORG'}, 'Switzerland': {'label': 'LOC'}, 'Ghebreyesus': {'label': 'PER'}}\n",
    "text = 'The headquarters of WHO is located in Switzerland and Ghebreyesus is the head of it.'\n",
    "tagger = SubstringTagger(rules)\n",
    "layer = tagger(text)\n",
    "export_texts('test-1.json', text, layer, 'label')\n",
    "assert filecmp.cmp('test-1.json', 'targets/test-1.json'), \"Basic functionality fails\"\n",
    "os.remove('test-1.json')"
   ]
  },
  {
   "cell_type": "code",
   "execution_count": 3,
   "id": "f143e8d0",
   "metadata": {},
   "outputs": [],
   "source": [
    "rules = {'WHO': {'label': 'ORG'}, 'Switzerland': {'label': 'LOC'}, 'Ghebreyesus': {'label': 'PER'}}\n",
    "text = 'The headquarters of WHO is located in Switzerland and Ghebreyesus is the head of it.'\n",
    "tagger = SubstringTagger(rules)\n",
    "layer = tagger(text)\n",
    "export_texts('test-1.json', [text], [layer], 'label')\n",
    "assert filecmp.cmp('test-1.json', 'targets/test-1.json'), \"Basic functionality fails\"\n",
    "os.remove('test-1.json')"
   ]
  },
  {
   "cell_type": "code",
   "execution_count": 4,
   "id": "15a5132f",
   "metadata": {},
   "outputs": [],
   "source": [
    "rules = {'WHO': {'ner': 'ORG'}, 'Switzerland': {'ner': 'LOC'}, 'Ghebreyesus': {'ner': 'PER'}}\n",
    "text = 'The headquarters of WHO is located in Switzerland and Ghebreyesus is the head of it.'\n",
    "tagger = SubstringTagger(rules)\n",
    "layer = tagger(text)\n",
    "export_texts('test-2.json', [text], [layer], 'ner')\n",
    "assert filecmp.cmp('test-2.json', 'targets/test-2.json'), \"Basic functionality fails\"\n",
    "os.remove('test-2.json')"
   ]
  },
  {
   "cell_type": "code",
   "execution_count": 5,
   "id": "032ac21f",
   "metadata": {},
   "outputs": [],
   "source": [
    "rules = {'WHO': {'ner': 'ORG'}, 'Switzerland': {'ner': 'LOC'}, 'Ghebreyesus': {'ner': 'PER'}}\n",
    "text = 'The headquarters of WHO is located in Switzerland and Ghebreyesus is the head of it.'\n",
    "tagger = SubstringTagger(rules)\n",
    "layer = tagger(text)\n",
    "export_texts('test-3.json', [text, text], [layer, layer], 'ner')\n",
    "assert filecmp.cmp('test-3.json', 'targets/test-3.json'), \"Basic functionality fails\"\n",
    "os.remove('test-3.json')"
   ]
  },
  {
   "cell_type": "markdown",
   "id": "58eeea80",
   "metadata": {},
   "source": [
    "### II. Test import of additional fields "
   ]
  },
  {
   "cell_type": "code",
   "execution_count": 6,
   "id": "7fab9bc7",
   "metadata": {},
   "outputs": [],
   "source": [
    "rules = {\n",
    "    'WHO': {'ner': 'ORG', 'score': 0.8}, \n",
    "    'Switzerland': {'ner': 'LOC', 'score': 0.9}, \n",
    "    'Ghebreyesus': {'ner': 'PER', 'score': 0.4}}\n",
    "text = 'The headquarters of WHO is located in Switzerland and Ghebreyesus is the head of it.'\n",
    "tagger = SubstringTagger(rules)\n",
    "layer = tagger(text)\n",
    "export_texts('test-4.json', [text], [layer], 'ner', other_attributes=['score'])\n",
    "assert filecmp.cmp('test-4.json', 'targets/test-4.json'), \"Score as additional attribute does not work works\"\n",
    "os.remove('test-4.json')"
   ]
  },
  {
   "cell_type": "code",
   "execution_count": 7,
   "id": "c965f53e",
   "metadata": {},
   "outputs": [],
   "source": [
    "rules = {\n",
    "    'WHO': {'ner': 'ORG', 'score': 0.8, 'subtype': 'PER/ORG'}, \n",
    "    'Switzerland': {'ner': 'LOC', 'score': 0.9}, \n",
    "    'Ghebreyesus': {'ner': 'PER', 'score': 0.4}}\n",
    "text = 'The headquarters of WHO is located in Switzerland and Ghebreyesus is the head of it.'\n",
    "tagger = SubstringTagger(rules)\n",
    "layer = tagger(text)\n",
    "export_texts('test-5.json', [text], [layer], 'ner', other_attributes=['score', 'subtype'])\n",
    "assert filecmp.cmp('test-5.json', 'targets/test-5.json'), \"Optional additional attribute does not works\"\n",
    "os.remove('test-5.json')"
   ]
  },
  {
   "cell_type": "markdown",
   "id": "25f2fd0e",
   "metadata": {},
   "source": [
    "### III. Test Label Studio attributes"
   ]
  },
  {
   "cell_type": "code",
   "execution_count": 8,
   "id": "ef82ce57",
   "metadata": {},
   "outputs": [],
   "source": [
    "rules = {'WHO': {'ner': 'ORG'}, 'Switzerland': {'ner': 'LOC'}, 'Ghebreyesus': {'ner': 'PER'}}\n",
    "text = 'The headquarters of WHO is located in Switzerland and Ghebreyesus is the head of it.'\n",
    "tagger = SubstringTagger(rules)\n",
    "layer = tagger(text)\n",
    "export_texts('test-6.json', [text], [layer], 'ner', text_name = 'event', labelset_name = 'class')\n",
    "assert filecmp.cmp('test-6.json', 'targets/test-6.json'), \"Renaming Label Studio attribtes fails\"\n",
    "os.remove('test-6.json')"
   ]
  }
 ],
 "metadata": {
  "kernelspec": {
   "display_name": "Python 3",
   "language": "python",
   "name": "python3"
  },
  "language_info": {
   "codemirror_mode": {
    "name": "ipython",
    "version": 3
   },
   "file_extension": ".py",
   "mimetype": "text/x-python",
   "name": "python",
   "nbconvert_exporter": "python",
   "pygments_lexer": "ipython3",
   "version": "3.8.10"
  }
 },
 "nbformat": 4,
 "nbformat_minor": 5
}
